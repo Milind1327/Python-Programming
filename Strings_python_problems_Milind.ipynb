{
 "cells": [
  {
   "cell_type": "code",
   "execution_count": 26,
   "metadata": {},
   "outputs": [
    {
     "name": "stdout",
     "output_type": "stream",
     "text": [
      "Enter the string: jaa\n",
      "{'j': 1}\n",
      "{'a': 2}\n",
      "{'a': 2}\n"
     ]
    },
    {
     "ename": "TypeError",
     "evalue": "'int' object is not callable",
     "output_type": "error",
     "traceback": [
      "\u001b[1;31m---------------------------------------------------------------------------\u001b[0m",
      "\u001b[1;31mTypeError\u001b[0m                                 Traceback (most recent call last)",
      "\u001b[1;32m<ipython-input-26-b1e0874e0e42>\u001b[0m in \u001b[0;36m<module>\u001b[1;34m()\u001b[0m\n\u001b[0;32m      8\u001b[0m     \u001b[0mprint\u001b[0m\u001b[1;33m(\u001b[0m\u001b[0mdicValues\u001b[0m\u001b[1;33m)\u001b[0m\u001b[1;33m\u001b[0m\u001b[0m\n\u001b[0;32m      9\u001b[0m \u001b[1;33m\u001b[0m\u001b[0m\n\u001b[1;32m---> 10\u001b[1;33m \u001b[0mprint\u001b[0m\u001b[1;33m(\u001b[0m\u001b[0mmax\u001b[0m\u001b[1;33m(\u001b[0m\u001b[0mdicValues\u001b[0m\u001b[1;33m)\u001b[0m\u001b[1;33m)\u001b[0m\u001b[1;33m\u001b[0m\u001b[0m\n\u001b[0m",
      "\u001b[1;31mTypeError\u001b[0m: 'int' object is not callable"
     ]
    }
   ],
   "source": [
    "#Maximum occuring character in a string\n",
    "str1=str(input(\"Enter the string: \"))\n",
    "\n",
    "for x in range(0,len(str1)):\n",
    "    count=0\n",
    "    count=str1.count(str1[x])\n",
    "    dicValues={str1[x]:count}\n",
    "    print(dicValues)\n",
    "    \n",
    "print(max(dicValues))"
   ]
  },
  {
   "cell_type": "code",
   "execution_count": null,
   "metadata": {},
   "outputs": [],
   "source": [
    "the_district={\"milind\":\"25\",\n",
    "             \"bala\":\"23\"}\n",
    "print(the_district)\n",
    "print(\"value of milind\",the_district.get(\"milind\"))\n",
    "\n",
    "#to get key values\n",
    "for x in the_district:\n",
    "    print(x,end=\",\")\n",
    "\n",
    "#to get the values of the keys\n",
    "for x in the_district:\n",
    "    print(the_district[x],end=\",\")\n",
    "\n",
    "the_district.popitem()\n",
    "print(the_district)"
   ]
  },
  {
   "cell_type": "code",
   "execution_count": 9,
   "metadata": {
    "scrolled": true
   },
   "outputs": [
    {
     "name": "stdout",
     "output_type": "stream",
     "text": [
      "Enter a string to be reversed: suhas\n",
      "sahus\n"
     ]
    }
   ],
   "source": [
    "#problem 6 using string slicing\n",
    "str1=str(input(\"Enter a string to be reversed: \"))\n",
    "str2=str1[::-1]\n",
    "print(str2)"
   ]
  },
  {
   "cell_type": "code",
   "execution_count": 8,
   "metadata": {},
   "outputs": [
    {
     "name": "stdout",
     "output_type": "stream",
     "text": [
      "Enter a string to be reversed: suhas\n",
      "sahus"
     ]
    }
   ],
   "source": [
    "#problem 6 in iteration mode\n",
    "string=str(input(\"Enter a string to be reversed: \"))\n",
    "#temp=None\n",
    "list1=[]\n",
    "for x in range(0,len(string)):\n",
    "    temp=string[x]\n",
    "    list1.append(temp)\n",
    "\n",
    "for y in range(len(string)-1,-1,-1):\n",
    "    print(list1[y],end=\"\")"
   ]
  },
  {
   "cell_type": "code",
   "execution_count": 19,
   "metadata": {},
   "outputs": [
    {
     "name": "stdout",
     "output_type": "stream",
     "text": [
      "Enter the number for permutation calculation: 123\n",
      "3\n"
     ]
    }
   ],
   "source": [
    "import math\n",
    "permu=str(input(\"Enter the number for permutation calculation: \"))\n",
    "print(len(permu))\n",
    "max=int(math.factorial(len(permu)))\n",
    "\n",
    "for x in range(0,max):\n",
    "    \n",
    "    "
   ]
  },
  {
   "cell_type": "code",
   "execution_count": 2,
   "metadata": {},
   "outputs": [
    {
     "name": "stdout",
     "output_type": "stream",
     "text": [
      "enter a string: java java milind bal suhas java\n"
     ]
    },
    {
     "data": {
      "text/plain": [
       "{'bal': 1, 'java': 3, 'milind': 1, 'suhas': 1}"
      ]
     },
     "execution_count": 2,
     "metadata": {},
     "output_type": "execute_result"
    }
   ],
   "source": [
    "#Recurring character count\n",
    "string=str(input(\"enter a string: \"))\n",
    "list1=string.split(\" \")\n",
    "dict1={}\n",
    "\n",
    "#print(list1)\n",
    "for x in range(0,len(list1)):\n",
    "    if list1[x] in dict1:\n",
    "           dict1[list1[x]]+=1\n",
    "    else:\n",
    "           dict1[list1[x]]=1\n",
    "dict1"
   ]
  },
  {
   "cell_type": "code",
   "execution_count": 10,
   "metadata": {
    "scrolled": true
   },
   "outputs": [
    {
     "name": "stdout",
     "output_type": "stream",
     "text": [
      "Enter the factorial of a number: 0\n",
      "1\n"
     ]
    }
   ],
   "source": [
    "#Factorial of a number using recursion\n",
    "\n",
    "\n",
    "num=int(input(\"Enter the factorial of a number: \"))\n",
    "value=0\n",
    "def factorial(num):\n",
    "    if num>=0 and num<=1:\n",
    "        return 1\n",
    "    else:\n",
    "        value=num*factorial(num-1)\n",
    "        return value\n",
    "print(factorial(num))"
   ]
  },
  {
   "cell_type": "code",
   "execution_count": 4,
   "metadata": {},
   "outputs": [
    {
     "name": "stdout",
     "output_type": "stream",
     "text": [
      "Enter the number for fibonacci series: 1\n"
     ]
    },
    {
     "data": {
      "text/plain": [
       "1"
      ]
     },
     "execution_count": 4,
     "metadata": {},
     "output_type": "execute_result"
    }
   ],
   "source": [
    "#Fibonacci series using recurison 0,1,1,2,3\n",
    "num=int(input(\"Enter the number for fibonacci series: \"))\n",
    "\n",
    "def fibonacci(num):\n",
    "    if num>=0 and num<=1:\n",
    "        return num\n",
    "    else:\n",
    "        return (fibonacci(num-1)+fibonacci(num-2))\n",
    "fibonacci(num)\n"
   ]
  },
  {
   "cell_type": "code",
   "execution_count": 21,
   "metadata": {},
   "outputs": [
    {
     "name": "stdout",
     "output_type": "stream",
     "text": [
      "10\n"
     ]
    }
   ],
   "source": [
    "# Sum of the given numbers using recursion\n",
    "def summ(list):\n",
    "    sumV=0\n",
    "    if len(list)==1:\n",
    "        return list[0]\n",
    "    else:\n",
    "        sumV=list[0]+summ(list[1:])\n",
    "        return sumV\n",
    "\n",
    "print(summ([1,2,3,4]))"
   ]
  },
  {
   "cell_type": "code",
   "execution_count": 19,
   "metadata": {},
   "outputs": [
    {
     "name": "stdout",
     "output_type": "stream",
     "text": [
      "enter a string: java java\n",
      "9\n",
      "{'j': 2, 'a': 4, 'v': 2, ' ': 1}\n"
     ]
    },
    {
     "data": {
      "text/plain": [
       "['a']"
      ]
     },
     "execution_count": 19,
     "metadata": {},
     "output_type": "execute_result"
    }
   ],
   "source": [
    "#Recurring character count - List Comprehension Used\n",
    "string=str(input(\"enter a string: \"))\n",
    "list1=string\n",
    "dict1={}\n",
    "print(len(list1))\n",
    "for x in range(0,len(list1)):\n",
    "    if list1[x] in dict1:\n",
    "        dict1[list1[x]]+=1\n",
    "    else:\n",
    "        dict1[list1[x]]=1\n",
    "print(dict1)\n",
    "\n",
    "[character for character, value in dict1.items() if value==max(dict1.values())]\n",
    "\n",
    "#print(list1)\n",
    "# for x in range(0,len(list1)):\n",
    "#     if list1[x] in dict1:\n",
    "#            dict1[list1[x]]+=1\n",
    "#     else:\n",
    "#            dict1[list1[x]]=1\n",
    "# dict1"
   ]
  },
  {
   "cell_type": "code",
   "execution_count": 59,
   "metadata": {},
   "outputs": [
    {
     "name": "stdout",
     "output_type": "stream",
     "text": [
      "enter a string: mili mili java java\n",
      "['mili', 'java']\n"
     ]
    }
   ],
   "source": [
    "#To remove duplicates from the string\n",
    "string=str(input(\"enter a string: \"))\n",
    "list1=string.split(\" \")\n",
    "newList=[]\n",
    "\n",
    "for x in range(0,len(list1)):\n",
    "    if list1[x] not in newList:\n",
    "        newList.append(list1[x])\n",
    "    else:\n",
    "        continue\n",
    "print(newList)\n",
    "        \n",
    "#     if list1[x] in dict1:\n",
    "#         dict1[list1[x]]+=1\n",
    "#     else:\n",
    "#         dict1[list1[x]]=1\n",
    "# print(dict1)\n",
    "\n",
    "# maxValue=max(dict1.values())\n",
    "\n",
    "# [character for character, value in dict1.items() if value==maxValue]"
   ]
  },
  {
   "cell_type": "code",
   "execution_count": 116,
   "metadata": {},
   "outputs": [
    {
     "name": "stdout",
     "output_type": "stream",
     "text": [
      "Enter the string: java milind\n",
      "jav milnd\n"
     ]
    }
   ],
   "source": [
    "#Remove duplicates characters from the string\n",
    "a=str(input(\"Enter the string: \"))\n",
    "b=\"\"\n",
    "for x in range(0,len(a)):\n",
    "        if a[x] not in b:\n",
    "            b=b+a[x]\n",
    "        else:\n",
    "            continue\n",
    "print(b)"
   ]
  },
  {
   "cell_type": "code",
   "execution_count": 117,
   "metadata": {},
   "outputs": [
    {
     "name": "stdout",
     "output_type": "stream",
     "text": [
      "Enter the string: madam\n",
      "['m', 'a']\n"
     ]
    }
   ],
   "source": [
    "#Remove duplicate characters from the string\n",
    "a=str(input(\"Enter the string: \"))\n",
    "c=[]\n",
    "for x in range(0,len(a)):\n",
    "    if a[x] in a[x+1:]:\n",
    "            c.append(a[x])\n",
    "print(c)"
   ]
  },
  {
   "cell_type": "code",
   "execution_count": 127,
   "metadata": {},
   "outputs": [
    {
     "name": "stdout",
     "output_type": "stream",
     "text": [
      "milindNava ia\n"
     ]
    },
    {
     "data": {
      "text/plain": [
       "'mlndNv'"
      ]
     },
     "execution_count": 127,
     "metadata": {},
     "output_type": "execute_result"
    }
   ],
   "source": [
    "#How to remove characters from the first String which are present in the second String?\n",
    "def removeString(str1,str2):\n",
    "    temp=\"\" \n",
    "    print(str1,str2)\n",
    "    for x in range(0,len(str1)):\n",
    "            if str1[x] not in str2:\n",
    "                temp=temp+str1[x]\n",
    "            else:\n",
    "                continue\n",
    "    return temp\n",
    "\n",
    "removeString(\"milindNava\",\"ia\")"
   ]
  },
  {
   "cell_type": "code",
   "execution_count": 14,
   "metadata": {
    "scrolled": false
   },
   "outputs": [
    {
     "name": "stdout",
     "output_type": "stream",
     "text": [
      "Before Rotation: xyz string 1 after rotation:  zxy\n",
      "Before Rotation: zxy string 2 after rotation:  xyz\n",
      "The rotation of two strings is True\n"
     ]
    }
   ],
   "source": [
    "#How to check if two strings are rotations of each other?\n",
    "def rotation(str1,str2):\n",
    "    str1_new=\"\"\n",
    "    str2_new=\"\"\n",
    "    \n",
    "    str1_new=str1[len(str1)-1]+str1[:-1]\n",
    "    str2_new=str2[1:]+str2[:1]\n",
    "    \n",
    "    print(\"Before Rotation:\",str1,\"string 1 after rotation: \",str1_new)\n",
    "    print(\"Before Rotation:\",str2,\"string 2 after rotation: \",str2_new)\n",
    "\n",
    "    if str1==str2_new and str2==str1_new:\n",
    "        return True\n",
    "    else:\n",
    "        return False\n",
    "    \n",
    "print(\"The rotation of two strings is\",rotation(\"xyz\",\"zxy\"))"
   ]
  },
  {
   "cell_type": "code",
   "execution_count": 45,
   "metadata": {},
   "outputs": [
    {
     "data": {
      "text/plain": [
       "'dnilim'"
      ]
     },
     "execution_count": 45,
     "metadata": {},
     "output_type": "execute_result"
    }
   ],
   "source": [
    "#How to reverse a given String using iterartive method\n",
    "\n",
    "def reverse(str1):\n",
    "    str2=\"\"\n",
    "    count=0\n",
    "    for x in range(0,len(str1)):\n",
    "        if(count<len(str1)):\n",
    "            count=count+1\n",
    "            str2=str2+str1[-count]\n",
    "    return str2\n",
    "\n",
    "reverse(\"milind\")"
   ]
  },
  {
   "cell_type": "code",
   "execution_count": null,
   "metadata": {},
   "outputs": [],
   "source": [
    "#Permuation program number=123 {123 132 213 231 312 321}\n",
    "\n"
   ]
  },
  {
   "cell_type": "code",
   "execution_count": 15,
   "metadata": {},
   "outputs": [
    {
     "name": "stdout",
     "output_type": "stream",
     "text": [
      "Enter the string: java\n",
      "j\n"
     ]
    }
   ],
   "source": [
    "#How to find the first non-repeating character in a given String?\n",
    "\n",
    "str1=input('Enter the string: ')\n",
    "\n",
    "for x in range(0,len(str1)):\n",
    "    if str1[x] not in str1[x+1:]:\n",
    "        print(str1[x])\n",
    "        break\n",
    "    else:\n",
    "        continue"
   ]
  },
  {
   "cell_type": "code",
   "execution_count": 22,
   "metadata": {},
   "outputs": [
    {
     "name": "stdout",
     "output_type": "stream",
     "text": [
      "Enter a sentence to be reversed: my name is khan\n",
      "khan is name my "
     ]
    }
   ],
   "source": [
    "#How to reverse the words in a given String sentence?\n",
    "str1=input(\"Enter a sentence to be reversed: \")\n",
    "\n",
    "list1=str1.split(\" \")\n",
    "list1.reverse()\n",
    "for x in list1:\n",
    "    print(x,end=\" \")"
   ]
  }
 ],
 "metadata": {
  "kernelspec": {
   "display_name": "Python 3",
   "language": "python",
   "name": "python3"
  },
  "language_info": {
   "codemirror_mode": {
    "name": "ipython",
    "version": 3
   },
   "file_extension": ".py",
   "mimetype": "text/x-python",
   "name": "python",
   "nbconvert_exporter": "python",
   "pygments_lexer": "ipython3",
   "version": "3.6.4"
  }
 },
 "nbformat": 4,
 "nbformat_minor": 2
}
