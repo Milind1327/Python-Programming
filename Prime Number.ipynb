{
 "cells": [
  {
   "cell_type": "code",
   "execution_count": 19,
   "metadata": {},
   "outputs": [
    {
     "name": "stdout",
     "output_type": "stream",
     "text": [
      "2,3,5,7,11,13,17,19,23,29,31,37,41,43,47,53,59,61,67,71,73,79,83,89,97,101,103,107,109,113,127,131,137,139,149,151,157,163,167,173,179,181,191,193,197,199,211,223,227,229,233,239,241,251,257,263,269,271,277,281,283,293,307,311,313,317,331,337,347,349,353,359,367,373,379,383,389,397,401,409,419,421,431,433,439,443,449,457,461,463,467,479,487,491,499,503,509,521,523,541,547,557,563,569,571,577,587,593,599,601,607,613,617,619,631,641,643,647,653,659,661,673,677,683,691,701,709,719,727,733,739,743,751,757,761,769,773,787,797,809,811,821,823,827,829,839,853,857,859,863,877,881,883,887,907,911,919,929,937,941,947,953,967,971,977,983,991,997,"
     ]
    }
   ],
   "source": [
    "#Prime Number from 1 to 1000\n",
    "for x in range(2,1000):\n",
    "    flag=False\n",
    "    #print(\"current number id:\",x)\n",
    "    for y in range(2,x):\n",
    "        if(x%y==0):\n",
    "            flag = True\n",
    "            #print(\"inside\")\n",
    "    if flag == False:\n",
    "        print(x,end=\",\")\n",
    "            "
   ]
  },
  {
   "cell_type": "code",
   "execution_count": 21,
   "metadata": {},
   "outputs": [
    {
     "name": "stdout",
     "output_type": "stream",
     "text": [
      "Enter a number: 21\n",
      "It's an odd number\n",
      "It's not a PRIME number\n"
     ]
    }
   ],
   "source": [
    "#Given number is even or not and then to check if it's PRIME number or not\n",
    "num=int(input(\"Enter a number: \"))\n",
    "\n",
    "if(num%2==0):\n",
    "    print(\"It's an even number\")\n",
    "else:\n",
    "    print(\"It's an odd number\")\n",
    "flag=False\n",
    "for x in range(2,num):\n",
    "    #flag=False\n",
    "    #print(\"current number id:\",x)\n",
    "    for y in range(2,x):\n",
    "        if(num%y==0):\n",
    "            flag = True\n",
    "            break\n",
    "            #print(\"inside\")\n",
    "if flag == False:\n",
    "    print(\"It's a PRIME number\")\n",
    "else:\n",
    "    print(\"It's not a PRIME number\")\n",
    "            "
   ]
  }
 ],
 "metadata": {
  "kernelspec": {
   "display_name": "Python 3",
   "language": "python",
   "name": "python3"
  },
  "language_info": {
   "codemirror_mode": {
    "name": "ipython",
    "version": 3
   },
   "file_extension": ".py",
   "mimetype": "text/x-python",
   "name": "python",
   "nbconvert_exporter": "python",
   "pygments_lexer": "ipython3",
   "version": "3.6.4"
  }
 },
 "nbformat": 4,
 "nbformat_minor": 2
}
