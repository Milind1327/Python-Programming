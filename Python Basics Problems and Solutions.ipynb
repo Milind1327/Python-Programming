{
 "cells": [
  {
   "cell_type": "code",
   "execution_count": 1,
   "metadata": {},
   "outputs": [
    {
     "name": "stdout",
     "output_type": "stream",
     "text": [
      "Enter a number3\n",
      "1  \n",
      "1 2  \n",
      "1 2 3  \n"
     ]
    }
   ],
   "source": [
    "a=int(input(\"Enter a number\"))\n",
    "for x in range(1,a+1):\n",
    "    for y in range(1,x+1):\n",
    "        print(y,end=\" \")\n",
    "    print(\" \")"
   ]
  },
  {
   "cell_type": "code",
   "execution_count": null,
   "metadata": {},
   "outputs": [],
   "source": [
    "#using funtions\n",
    "a=int(input(\"Enter a number\"))\n",
    "for x in range(1,a+1):\n",
    "    for y in range(1,x+1):\n",
    "        print(y,end=\" \")\n",
    "    print(\" \")"
   ]
  },
  {
   "cell_type": "code",
   "execution_count": 9,
   "metadata": {},
   "outputs": [
    {
     "name": "stdout",
     "output_type": "stream",
     "text": [
      "Enter the first number: -21\n",
      "Enter the second number: 21\n",
      "Enter the third number: 0\n",
      "b is greater\n"
     ]
    }
   ],
   "source": [
    "a=int(input(\"Enter the first number: \"))\n",
    "b=int(input(\"Enter the second number: \"))\n",
    "c=int(input(\"Enter the third number: \"))\n",
    "\n",
    "if(a>b and a>c):\n",
    "    print(\"a is greater\")\n",
    "elif(b>a and b>c):\n",
    "    print(\"b is greater\")\n",
    "elif(a==b and b==c):\n",
    "    print(\"a,b,c are same and greater\")\n",
    "elif(a>=b and a>c):\n",
    "    print(\"a and b are greater\")\n",
    "else:\n",
    "    print(\"c is greater\")"
   ]
  },
  {
   "cell_type": "code",
   "execution_count": 12,
   "metadata": {},
   "outputs": [
    {
     "name": "stdout",
     "output_type": "stream",
     "text": [
      "Enter a number: 1234\n",
      "10\n"
     ]
    }
   ],
   "source": [
    "a=int(input(\"Enter a number: \"))\n",
    "b=0\n",
    "while(a>0):\n",
    "    b=b+a%10\n",
    "    a=a//10\n",
    "\n",
    "print(b)"
   ]
  },
  {
   "cell_type": "code",
   "execution_count": 14,
   "metadata": {},
   "outputs": [
    {
     "name": "stdout",
     "output_type": "stream",
     "text": [
      "Enter a number: 456\n",
      "654\n"
     ]
    }
   ],
   "source": [
    "a=int(input(\"Enter a number: \"))\n",
    "b=0\n",
    "while(a>0):\n",
    "    b=(b*10)+a%10\n",
    "    a=a//10\n",
    "\n",
    "print(b)"
   ]
  },
  {
   "cell_type": "code",
   "execution_count": 24,
   "metadata": {},
   "outputs": [
    {
     "name": "stdout",
     "output_type": "stream",
     "text": [
      "Enter a number: 407\n",
      "407 is an armstrong number\n"
     ]
    }
   ],
   "source": [
    "a=int((input(\"Enter a number: \")))\n",
    "z=a\n",
    "b=0\n",
    "c=0\n",
    "\n",
    "while(a>0):\n",
    "    b=a%10\n",
    "    c=c+(b**3)\n",
    "    a=a//10\n",
    "if(z==c):\n",
    "    print(z, \"is an armstrong number\")\n",
    "else:\n",
    "    print(z, \"is not an armstrong number\")"
   ]
  },
  {
   "cell_type": "code",
   "execution_count": 37,
   "metadata": {},
   "outputs": [
    {
     "name": "stdout",
     "output_type": "stream",
     "text": [
      "Enter the number for fibonacci series: 5\n",
      "0 1 1 2 3 "
     ]
    }
   ],
   "source": [
    "num=(int)(input(\"Enter the number for fibonacci series: \"))\n",
    "a=0\n",
    "b=1\n",
    "c=0\n",
    "print(a,b,end=\" \")\n",
    "for x in range(1,num-1):\n",
    "    c=a+b\n",
    "    a=b\n",
    "    b=c\n",
    "    print(c, end=\" \")"
   ]
  },
  {
   "cell_type": "code",
   "execution_count": 40,
   "metadata": {},
   "outputs": [
    {
     "name": "stdout",
     "output_type": "stream",
     "text": [
      "Enter a number3\n",
      "    1  \n",
      "  1 2  \n",
      "1 2 3  \n"
     ]
    }
   ],
   "source": [
    "a=int(input(\"Enter a number\"))\n",
    "for x in range(1,a+1):\n",
    "    for y in range(1,a+1):\n",
    "        if(y<(a+1)-x):\n",
    "            print(\" \",end=\" \")\n",
    "    for z in range(1,x+1):\n",
    "        print (z,end=\" \")\n",
    "        if(x==z):\n",
    "            print(\" \")"
   ]
  },
  {
   "cell_type": "code",
   "execution_count": null,
   "metadata": {},
   "outputs": [],
   "source": [
    "a=int(input(\"Enter a number: \"))\n",
    "for x in range(1,a+1):\n",
    "    for y in range(1,a+1):\n",
    "        if(y<(a+1)-x):\n",
    "            print(\" \",end=\" \")\n",
    "    for z in range(1,x+1):\n",
    "        print (z,end=\" \")\n",
    "    for m in range(1,a):"
   ]
  },
  {
   "cell_type": "code",
   "execution_count": 39,
   "metadata": {},
   "outputs": [
    {
     "name": "stdout",
     "output_type": "stream",
     "text": [
      "Enter a number: 4\n",
      "      1        \n",
      "    1 2 1      \n",
      "  1 2 3 2 1    \n",
      "1 2 3 4 3 2 1  \n"
     ]
    }
   ],
   "source": [
    "a=int(input(\"Enter a number: \"))\n",
    "for x in range(1,a+1):\n",
    "    for y in range(1,a+1):\n",
    "        if(y<(a+1)-x):\n",
    "            print(\" \",end=\" \")\n",
    "    for z in range(1,x+1):\n",
    "        print (z,end=\" \")\n",
    "    for m in range(1,a):\n",
    "        if(x==1):\n",
    "            print(\" \",end=\" \")\n",
    "        else:\n",
    "            x=x-1\n",
    "            print(x,end=\" \")                       #comparison need to be done\n",
    "    print(\" \")        "
   ]
  },
  {
   "cell_type": "code",
   "execution_count": 47,
   "metadata": {},
   "outputs": [
    {
     "name": "stdout",
     "output_type": "stream",
     "text": [
      "Enter a number: 3\n",
      "_ _ 1 _ _  \n",
      "_ 1 2 1 _  \n",
      "1 2 3 2 1  \n",
      "_ _ 1  \n",
      "_ 1 2  \n",
      "1 2 3  \n"
     ]
    }
   ],
   "source": [
    "a=int(input(\"Enter a number: \"))\n",
    "for x in range(1,a+1):\n",
    "    for y in range(1,a+1):\n",
    "        if(y<(a+1)-x):\n",
    "            print(\"_\",end=\" \")\n",
    "    for z in range(1,x+1):\n",
    "        print (z,end=\" \")\n",
    "    for m in range(1,a):\n",
    "        if(x==1):\n",
    "            print(\"_\",end=\" \")\n",
    "        else:\n",
    "            x=x-1\n",
    "            print(x,end=\" \")                       #comparison need to be done\n",
    "    print(\" \")\n",
    "    \n",
    "for o in range(1,a+1):\n",
    "    for p in range(1,a+1):\n",
    "        if(p<(a+1)-o):\n",
    "            print(\"_\",end=\" \")\n",
    "    for q in range(1,o+1):\n",
    "        print (q,end=\" \")\n",
    "    print(\" \")"
   ]
  },
  {
   "cell_type": "code",
   "execution_count": 60,
   "metadata": {},
   "outputs": [
    {
     "name": "stdout",
     "output_type": "stream",
     "text": [
      "Enter the first number: 3\n",
      "Enter the second number: 4\n",
      "b is greater than a\n",
      "Difference between two numbers:  -1\n",
      "Difference when b is subtracted from a:  1\n",
      "Product of two numbers:  12\n",
      "Quotient when a is divided by b:  0\n",
      "Remainder when a is divided by b:  3\n",
      "Result of log10 a 1.0986122886681098\n",
      "a**b: 81\n",
      "Swapping of two numbers:  4 3\n"
     ]
    }
   ],
   "source": [
    "import math\n",
    "a=int(input(\"Enter the first number: \"))\n",
    "b=int(input(\"Enter the second number: \"))\n",
    "\n",
    "if(a>b):\n",
    "    print(\"a is greater than b\")\n",
    "else:\n",
    "    print(\"b is greater than a\")\n",
    "\n",
    "print(\"Difference between two numbers: \",a-b)\n",
    "print(\"Difference when b is subtracted from a: \",b-a)\n",
    "\n",
    "print(\"Product of two numbers: \",a*b)\n",
    "print(\"Quotient when a is divided by b: \",a//b)\n",
    "print(\"Remainder when a is divided by b: \",a%b)\n",
    "print(\"Result of log10 a\",math.log(a))\n",
    "print(\"a**b:\",a**b)\n",
    "c=a\n",
    "a=b\n",
    "b=c\n",
    "print(\"Swapping of two numbers: \",a,b)\n",
    "\n"
   ]
  },
  {
   "cell_type": "code",
   "execution_count": 61,
   "metadata": {},
   "outputs": [
    {
     "name": "stdout",
     "output_type": "stream",
     "text": [
      "Enter the length value: 10.0\n",
      "Enter the width value: 5.0\n",
      "Area of the room:  50.0\n"
     ]
    }
   ],
   "source": [
    "length=float(input(\"Enter the length value: \"))\n",
    "width=float(input(\"Enter the width value: \"))\n",
    "area=length*width\n",
    "print(\"Area of the room: \",area)"
   ]
  },
  {
   "cell_type": "code",
   "execution_count": 67,
   "metadata": {},
   "outputs": [
    {
     "name": "stdout",
     "output_type": "stream",
     "text": [
      "Enter the length value: 400\n",
      "Enter the width value: 400\n",
      "Area of the field in acres:  3.67 acres\n"
     ]
    }
   ],
   "source": [
    "length=int(input(\"Enter the length value: \"))\n",
    "width=int(input(\"Enter the width value: \"))\n",
    "area=round(length*width/43560,2)\n",
    "print(\"Area of the field in acres: \",area,\"acres\")"
   ]
  },
  {
   "cell_type": "code",
   "execution_count": 1,
   "metadata": {},
   "outputs": [],
   "source": [
    "def name_funtion():\n",
    "    '''\n",
    "    DOCSTRING: Information about the function\n",
    "    Input:\n",
    "    Output:\n",
    "    '''\n",
    "    print('Hello')"
   ]
  },
  {
   "cell_type": "code",
   "execution_count": 2,
   "metadata": {},
   "outputs": [
    {
     "name": "stdout",
     "output_type": "stream",
     "text": [
      "Help on function name_funtion in module __main__:\n",
      "\n",
      "name_funtion()\n",
      "    DOCSTRING: Information about the function\n",
      "    Input:\n",
      "    Output:\n",
      "\n"
     ]
    }
   ],
   "source": [
    "help(name_funtion)"
   ]
  },
  {
   "cell_type": "code",
   "execution_count": 11,
   "metadata": {},
   "outputs": [],
   "source": [
    "def dog_check(mystring):\n",
    "    return 'dog' in mystring.lower()"
   ]
  },
  {
   "cell_type": "code",
   "execution_count": 12,
   "metadata": {},
   "outputs": [
    {
     "data": {
      "text/plain": [
       "True"
      ]
     },
     "execution_count": 12,
     "metadata": {},
     "output_type": "execute_result"
    }
   ],
   "source": [
    "dog_check('dog ran away')"
   ]
  },
  {
   "cell_type": "code",
   "execution_count": 13,
   "metadata": {},
   "outputs": [],
   "source": [
    "def pig_latin(word):\n",
    "    first_letter=word[0]\n",
    "    \n",
    "    # check if vowel\n",
    "    if first_letter in 'aeiou':\n",
    "        pig_word=word+'ay'\n",
    "    else:\n",
    "        pig_word=word[1:]+first_letter+'ay'\n",
    "    \n",
    "    \n",
    "    return pig_word"
   ]
  },
  {
   "cell_type": "code",
   "execution_count": 14,
   "metadata": {},
   "outputs": [
    {
     "data": {
      "text/plain": [
       "'appleay'"
      ]
     },
     "execution_count": 14,
     "metadata": {},
     "output_type": "execute_result"
    }
   ],
   "source": [
    "pig_latin('apple')"
   ]
  },
  {
   "cell_type": "code",
   "execution_count": 15,
   "metadata": {},
   "outputs": [
    {
     "data": {
      "text/plain": [
       "'anbay'"
      ]
     },
     "execution_count": 15,
     "metadata": {},
     "output_type": "execute_result"
    }
   ],
   "source": [
    "pig_latin('ban')"
   ]
  },
  {
   "cell_type": "code",
   "execution_count": null,
   "metadata": {},
   "outputs": [],
   "source": []
  }
 ],
 "metadata": {
  "kernelspec": {
   "display_name": "Python 3",
   "language": "python",
   "name": "python3"
  },
  "language_info": {
   "codemirror_mode": {
    "name": "ipython",
    "version": 3
   },
   "file_extension": ".py",
   "mimetype": "text/x-python",
   "name": "python",
   "nbconvert_exporter": "python",
   "pygments_lexer": "ipython3",
   "version": "3.6.4"
  }
 },
 "nbformat": 4,
 "nbformat_minor": 2
}
